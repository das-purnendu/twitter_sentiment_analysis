{
 "cells": [
  {
   "cell_type": "code",
   "execution_count": 1,
   "metadata": {},
   "outputs": [],
   "source": [
    "import numpy as np\n",
    "import pandas as pd\n",
    "import re\n",
    "import matplotlib.pyplot as plt\n",
    "import seaborn as sns\n",
    "\n",
    "from sklearn import model_selection\n",
    "from sklearn.model_selection import train_test_split\n",
    "from sklearn import metrics\n",
    "from sklearn.metrics import accuracy_score,confusion_matrix,precision_score,recall_score\n",
    "from sklearn.metrics import roc_curve\n",
    "from sklearn import ensemble\n",
    "from sklearn import linear_model\n",
    "from sklearn import tree\n",
    "from sklearn import neighbors\n",
    "from sklearn import naive_bayes\n",
    "from sklearn.naive_bayes import GaussianNB\n",
    "from sklearn.naive_bayes import MultinomialNB\n",
    "\n",
    "from sklearn.tree import DecisionTreeClassifier\n",
    "from sklearn.naive_bayes import GaussianNB\n",
    "\n",
    "from textblob import TextBlob,Word\n",
    "from nltk.corpus import words\n",
    "\n",
    "%matplotlib inline"
   ]
  },
  {
   "cell_type": "code",
   "execution_count": 2,
   "metadata": {},
   "outputs": [],
   "source": [
    "data = pd.read_csv(\"files/tweet_filtered_2.csv\")"
   ]
  },
  {
   "cell_type": "code",
   "execution_count": 3,
   "metadata": {},
   "outputs": [
    {
     "data": {
      "text/plain": [
       "(110482, 4)"
      ]
     },
     "execution_count": 3,
     "metadata": {},
     "output_type": "execute_result"
    }
   ],
   "source": [
    "data.shape"
   ]
  },
  {
   "cell_type": "code",
   "execution_count": 4,
   "metadata": {},
   "outputs": [
    {
     "data": {
      "text/plain": [
       "Unnamed: 0              0\n",
       "Unnamed: 0.1            0\n",
       "tweet                   0\n",
       "filtered_sentence    1142\n",
       "dtype: int64"
      ]
     },
     "execution_count": 4,
     "metadata": {},
     "output_type": "execute_result"
    }
   ],
   "source": [
    "data.isnull().sum()"
   ]
  },
  {
   "cell_type": "code",
   "execution_count": 5,
   "metadata": {},
   "outputs": [],
   "source": [
    "data.dropna(inplace=True)"
   ]
  },
  {
   "cell_type": "code",
   "execution_count": 6,
   "metadata": {},
   "outputs": [
    {
     "data": {
      "text/plain": [
       "(109340, 4)"
      ]
     },
     "execution_count": 6,
     "metadata": {},
     "output_type": "execute_result"
    }
   ],
   "source": [
    "data.shape"
   ]
  },
  {
   "cell_type": "markdown",
   "metadata": {},
   "source": [
    " Filter sentences if it has minimum of 5 words\n",
    " \n",
    " \n",
    " "
   ]
  },
  {
   "cell_type": "code",
   "execution_count": 7,
   "metadata": {},
   "outputs": [],
   "source": [
    "data[\"filtered_sentence\"]=data.filtered_sentence.apply(lambda x: x if(len(x.split())>4) else None)"
   ]
  },
  {
   "cell_type": "code",
   "execution_count": 8,
   "metadata": {},
   "outputs": [
    {
     "data": {
      "text/plain": [
       "Unnamed: 0              0\n",
       "Unnamed: 0.1            0\n",
       "tweet                   0\n",
       "filtered_sentence    5369\n",
       "dtype: int64"
      ]
     },
     "execution_count": 8,
     "metadata": {},
     "output_type": "execute_result"
    }
   ],
   "source": [
    "data.isnull().sum()"
   ]
  },
  {
   "cell_type": "code",
   "execution_count": 10,
   "metadata": {},
   "outputs": [
    {
     "data": {
      "text/plain": [
       "(103971, 4)"
      ]
     },
     "execution_count": 10,
     "metadata": {},
     "output_type": "execute_result"
    }
   ],
   "source": [
    "data.dropna(inplace=True)\n",
    "data.shape"
   ]
  },
  {
   "cell_type": "code",
   "execution_count": null,
   "metadata": {},
   "outputs": [],
   "source": []
  },
  {
   "cell_type": "code",
   "execution_count": null,
   "metadata": {},
   "outputs": [],
   "source": []
  },
  {
   "cell_type": "markdown",
   "metadata": {},
   "source": [
    "Filter the unique sentences"
   ]
  },
  {
   "cell_type": "code",
   "execution_count": 11,
   "metadata": {},
   "outputs": [
    {
     "data": {
      "text/plain": [
       "(56573,)"
      ]
     },
     "execution_count": 11,
     "metadata": {},
     "output_type": "execute_result"
    }
   ],
   "source": [
    "tweets = data.filtered_sentence.unique()\n",
    "tweets.shape"
   ]
  },
  {
   "cell_type": "code",
   "execution_count": null,
   "metadata": {},
   "outputs": [],
   "source": []
  },
  {
   "cell_type": "markdown",
   "metadata": {},
   "source": [
    "Takes only the sentences"
   ]
  },
  {
   "cell_type": "code",
   "execution_count": 12,
   "metadata": {},
   "outputs": [],
   "source": [
    "tweets= pd.DataFrame(data=tweets,columns=['text'])"
   ]
  },
  {
   "cell_type": "code",
   "execution_count": null,
   "metadata": {},
   "outputs": [],
   "source": []
  },
  {
   "cell_type": "code",
   "execution_count": null,
   "metadata": {},
   "outputs": [],
   "source": []
  },
  {
   "cell_type": "code",
   "execution_count": 13,
   "metadata": {},
   "outputs": [],
   "source": [
    "pol = lambda x:TextBlob(x).sentiment.polarity\n",
    "sub = lambda x:TextBlob(x).sentiment.subjectivity"
   ]
  },
  {
   "cell_type": "code",
   "execution_count": 14,
   "metadata": {},
   "outputs": [],
   "source": [
    "tweets['polarity']=tweets.text.apply(pol)\n",
    "tweets['subjectivity']=tweets.text.apply(sub)"
   ]
  },
  {
   "cell_type": "code",
   "execution_count": 15,
   "metadata": {},
   "outputs": [],
   "source": [
    "pol_er= lambda x: 1 if(x!=0) else None\n",
    "tweets[\"pol_zr\"]=tweets.polarity.apply(pol_er)"
   ]
  },
  {
   "cell_type": "code",
   "execution_count": 272,
   "metadata": {},
   "outputs": [],
   "source": []
  },
  {
   "cell_type": "code",
   "execution_count": 16,
   "metadata": {},
   "outputs": [
    {
     "data": {
      "text/plain": [
       "text                0\n",
       "polarity            0\n",
       "subjectivity        0\n",
       "pol_zr          16516\n",
       "dtype: int64"
      ]
     },
     "execution_count": 16,
     "metadata": {},
     "output_type": "execute_result"
    }
   ],
   "source": [
    "tweets.isnull().sum()"
   ]
  },
  {
   "cell_type": "markdown",
   "metadata": {},
   "source": [
    "Remove the Polarity zero sentences"
   ]
  },
  {
   "cell_type": "code",
   "execution_count": 18,
   "metadata": {},
   "outputs": [],
   "source": [
    "tweets.dropna(inplace=True)"
   ]
  },
  {
   "cell_type": "code",
   "execution_count": null,
   "metadata": {},
   "outputs": [],
   "source": []
  },
  {
   "cell_type": "code",
   "execution_count": null,
   "metadata": {},
   "outputs": [],
   "source": []
  },
  {
   "cell_type": "code",
   "execution_count": 19,
   "metadata": {},
   "outputs": [],
   "source": [
    "sent = lambda x: 1 if(x>0) else 0"
   ]
  },
  {
   "cell_type": "code",
   "execution_count": 20,
   "metadata": {},
   "outputs": [],
   "source": [
    "tweets[\"sentiment\"]=tweets.polarity.apply(sent)"
   ]
  },
  {
   "cell_type": "code",
   "execution_count": null,
   "metadata": {},
   "outputs": [],
   "source": []
  },
  {
   "cell_type": "code",
   "execution_count": null,
   "metadata": {},
   "outputs": [],
   "source": []
  },
  {
   "cell_type": "code",
   "execution_count": 21,
   "metadata": {},
   "outputs": [],
   "source": [
    "sub_er= lambda x: 1 if(x>0) else None\n",
    "tweets[\"sub_zr\"]=tweets.subjectivity.apply(sub_er)"
   ]
  },
  {
   "cell_type": "code",
   "execution_count": 232,
   "metadata": {},
   "outputs": [],
   "source": []
  },
  {
   "cell_type": "code",
   "execution_count": 22,
   "metadata": {},
   "outputs": [
    {
     "data": {
      "text/plain": [
       "text              0\n",
       "polarity          0\n",
       "subjectivity      0\n",
       "pol_zr            0\n",
       "sentiment         0\n",
       "sub_zr          155\n",
       "dtype: int64"
      ]
     },
     "execution_count": 22,
     "metadata": {},
     "output_type": "execute_result"
    }
   ],
   "source": [
    "tweets.isnull().sum()"
   ]
  },
  {
   "cell_type": "markdown",
   "metadata": {},
   "source": [
    "Remove the subjectivity zero sentences"
   ]
  },
  {
   "cell_type": "code",
   "execution_count": 24,
   "metadata": {},
   "outputs": [],
   "source": [
    "tweets.dropna(inplace=True)"
   ]
  },
  {
   "cell_type": "code",
   "execution_count": 25,
   "metadata": {},
   "outputs": [
    {
     "data": {
      "text/plain": [
       "1    26786\n",
       "0    13116\n",
       "Name: sentiment, dtype: int64"
      ]
     },
     "execution_count": 25,
     "metadata": {},
     "output_type": "execute_result"
    }
   ],
   "source": [
    "tweets.sentiment.value_counts()"
   ]
  },
  {
   "cell_type": "code",
   "execution_count": 26,
   "metadata": {},
   "outputs": [
    {
     "data": {
      "text/plain": [
       "<matplotlib.axes._subplots.AxesSubplot at 0x14b9ea8feb8>"
      ]
     },
     "execution_count": 26,
     "metadata": {},
     "output_type": "execute_result"
    },
    {
     "data": {
      "image/png": "[encoded data removed]",
      "text/plain": [
       "<Figure size 432x288 with 1 Axes>"
      ]
     },
     "metadata": {
      "needs_background": "light"
     },
     "output_type": "display_data"
    }
   ],
   "source": [
    "sns.barplot(x=[1,0],y=tweets.sentiment.value_counts(),data=tweets)"
   ]
  },
  {
   "cell_type": "code",
   "execution_count": 280,
   "metadata": {},
   "outputs": [],
   "source": []
  },
  {
   "cell_type": "code",
   "execution_count": 27,
   "metadata": {},
   "outputs": [
    {
     "name": "stdout",
     "output_type": "stream",
     "text": [
      "Total words =  720969\n"
     ]
    }
   ],
   "source": [
    "data_base=tweets.text.tolist()\n",
    "total_words=[]                      # All words\n",
    "for i in data_base:\n",
    "    for j in i.split():\n",
    "        j=j.lower()\n",
    "        total_words.append(j)\n",
    "print(\"Total words = \",len(total_words))"
   ]
  },
  {
   "cell_type": "code",
   "execution_count": null,
   "metadata": {},
   "outputs": [],
   "source": []
  },
  {
   "cell_type": "code",
   "execution_count": 28,
   "metadata": {},
   "outputs": [
    {
     "data": {
      "text/plain": [
       "(720969, 1)"
      ]
     },
     "execution_count": 28,
     "metadata": {},
     "output_type": "execute_result"
    }
   ],
   "source": [
    "w_c=pd.DataFrame(data=total_words,columns=[\"words\"])\n",
    "w_c.shape"
   ]
  },
  {
   "cell_type": "code",
   "execution_count": null,
   "metadata": {},
   "outputs": [],
   "source": []
  },
  {
   "cell_type": "code",
   "execution_count": 29,
   "metadata": {},
   "outputs": [
    {
     "data": {
      "text/plain": [
       "(632429, 1)"
      ]
     },
     "execution_count": 29,
     "metadata": {},
     "output_type": "execute_result"
    }
   ],
   "source": [
    "w_c_filtered=w_c[w_c[\"words\"].map(w_c[\"words\"].value_counts())>10]\n",
    "w_c_filtered.shape"
   ]
  },
  {
   "cell_type": "code",
   "execution_count": null,
   "metadata": {},
   "outputs": [],
   "source": []
  },
  {
   "cell_type": "code",
   "execution_count": 30,
   "metadata": {},
   "outputs": [
    {
     "data": {
      "text/plain": [
       "(6440, 1)"
      ]
     },
     "execution_count": 30,
     "metadata": {},
     "output_type": "execute_result"
    }
   ],
   "source": [
    "w_c_filtered =pd.DataFrame(data= w_c_filtered[\"words\"].unique() , columns=[\"words\"])\n",
    "w_c_filtered.shape"
   ]
  },
  {
   "cell_type": "code",
   "execution_count": null,
   "metadata": {},
   "outputs": [],
   "source": []
  },
  {
   "cell_type": "code",
   "execution_count": null,
   "metadata": {},
   "outputs": [],
   "source": []
  },
  {
   "cell_type": "code",
   "execution_count": 31,
   "metadata": {},
   "outputs": [],
   "source": [
    "all_words=w_c_filtered.words.tolist()"
   ]
  },
  {
   "cell_type": "code",
   "execution_count": 32,
   "metadata": {},
   "outputs": [
    {
     "name": "stdout",
     "output_type": "stream",
     "text": [
      "All words =  6440\n",
      "Meaningful english words =  4069\n"
     ]
    }
   ],
   "source": [
    "print(\"All words = \",len(all_words))\n",
    "corp=words.words()\n",
    "flt_wrds=[w for w in all_words if w in corp]\n",
    "print(\"Meaningful english words = \",len(flt_wrds))   "
   ]
  },
  {
   "cell_type": "code",
   "execution_count": null,
   "metadata": {},
   "outputs": [],
   "source": []
  },
  {
   "cell_type": "code",
   "execution_count": null,
   "metadata": {},
   "outputs": [],
   "source": []
  },
  {
   "cell_type": "code",
   "execution_count": 33,
   "metadata": {},
   "outputs": [],
   "source": [
    "flt_wrd_set=set(flt_wrds)\n",
    "wrd_chk = lambda x:1 if len((set(x.split()).intersection(flt_wrd_set)))>=1 else None"
   ]
  },
  {
   "cell_type": "code",
   "execution_count": null,
   "metadata": {},
   "outputs": [],
   "source": []
  },
  {
   "cell_type": "code",
   "execution_count": 34,
   "metadata": {},
   "outputs": [],
   "source": [
    "tweets[\"word_chk\"]=tweets.text.apply(wrd_chk)"
   ]
  },
  {
   "cell_type": "code",
   "execution_count": 35,
   "metadata": {},
   "outputs": [
    {
     "data": {
      "text/plain": [
       "text              0\n",
       "polarity          0\n",
       "subjectivity      0\n",
       "pol_zr            0\n",
       "sentiment         0\n",
       "sub_zr            0\n",
       "word_chk        793\n",
       "dtype: int64"
      ]
     },
     "execution_count": 35,
     "metadata": {},
     "output_type": "execute_result"
    }
   ],
   "source": [
    "tweets.isnull().sum()"
   ]
  },
  {
   "cell_type": "code",
   "execution_count": 36,
   "metadata": {},
   "outputs": [],
   "source": [
    "tweets.dropna(inplace=True)"
   ]
  },
  {
   "cell_type": "code",
   "execution_count": null,
   "metadata": {},
   "outputs": [],
   "source": []
  },
  {
   "cell_type": "code",
   "execution_count": 322,
   "metadata": {},
   "outputs": [],
   "source": []
  },
  {
   "cell_type": "markdown",
   "metadata": {},
   "source": [
    "## Word count vector represent and model training - - - - - -"
   ]
  },
  {
   "cell_type": "code",
   "execution_count": null,
   "metadata": {},
   "outputs": [],
   "source": []
  },
  {
   "cell_type": "code",
   "execution_count": 37,
   "metadata": {},
   "outputs": [],
   "source": [
    "word_vector=[]\n",
    "for i in tweets.text:\n",
    "    i=i.lower()\n",
    "    mat=[i.count(j) for j in flt_wrds]\n",
    "    word_vector.append(mat)"
   ]
  },
  {
   "cell_type": "code",
   "execution_count": null,
   "metadata": {},
   "outputs": [],
   "source": []
  },
  {
   "cell_type": "code",
   "execution_count": 38,
   "metadata": {},
   "outputs": [
    {
     "data": {
      "text/plain": [
       "(39109, 4069)"
      ]
     },
     "execution_count": 38,
     "metadata": {},
     "output_type": "execute_result"
    }
   ],
   "source": [
    "X_count_vect = pd.DataFrame(word_vector,columns=flt_wrds)\n",
    "X_count_vect.shape"
   ]
  },
  {
   "cell_type": "code",
   "execution_count": 39,
   "metadata": {},
   "outputs": [],
   "source": [
    "y=tweets.sentiment"
   ]
  },
  {
   "cell_type": "code",
   "execution_count": 40,
   "metadata": {},
   "outputs": [],
   "source": [
    "X_train,X_test,y_train,y_test=train_test_split(X_count_vect,y,test_size=0.25,random_state=7)"
   ]
  },
  {
   "cell_type": "code",
   "execution_count": 41,
   "metadata": {},
   "outputs": [],
   "source": [
    "def reports(ytrue,predicted):\n",
    "    print(\"Accuracy : {}\".format(metrics.accuracy_score(ytrue,predicted)))\n",
    "    print(\"Precision : {}\".format(metrics.precision_score(ytrue,predicted)))\n",
    "    print(\"Recall : {}\".format(metrics.recall_score(ytrue,predicted)))\n",
    "    print(\"Logloss : {}\".format(metrics.log_loss(ytrue,predicted)))\n",
    "    print(\"AUC : {}\".format(metrics.roc_auc_score(ytrue,predicted)))\n",
    "    print(\"Confusion Matrix : \\n{}\".format(metrics.confusion_matrix(ytrue,predicted)))"
   ]
  },
  {
   "cell_type": "code",
   "execution_count": 42,
   "metadata": {},
   "outputs": [],
   "source": [
    "def all_models_report():\n",
    "    \n",
    "    global X_train\n",
    "    global y_train\n",
    "    global X_test\n",
    "    global y_test\n",
    "    \n",
    "                # Random Forest Model\n",
    "    \n",
    "    \n",
    "    rfst=ensemble.RandomForestClassifier(n_estimators=10)\n",
    "    rfst.fit(X_train,y_train)\n",
    "    rfst_pred =rfst.predict(X_test)\n",
    "    print(\"\\n\\nFor Random Forest\\n\")\n",
    "    reports(y_test,rfst_pred)\n",
    "    \n",
    "    fpr, tpr, thresholds = roc_curve(y_test,rfst_pred)\n",
    "    plt.plot([0, 1], [0, 1], linestyle='--')\n",
    "    plt.plot(fpr, tpr, marker='.')\n",
    "    plt.suptitle('AUC-ROC Curve', fontsize=20)\n",
    "    plt.xlabel('False positive Rate')\n",
    "    plt.ylabel('True Positive Rate')\n",
    "    plt.show()\n",
    "    \n",
    "    \n",
    "    \n",
    "    \n",
    "    \n",
    "                # Decision Tree Model\n",
    "    \n",
    "    dst = tree.DecisionTreeClassifier()\n",
    "    dst.fit(X_train,y_train)\n",
    "    dst_pred = dst.predict(X_test)\n",
    "    print(\"\\n\\nFor Decision Tree\\n\")\n",
    "    reports(y_test,dst_pred)\n",
    "    \n",
    "    fpr, tpr, thresholds = roc_curve(y_test,dst_pred)\n",
    "    plt.plot([0, 1], [0, 1], linestyle='--')\n",
    "    plt.plot(fpr, tpr, marker='.')\n",
    "    plt.suptitle('AUC-ROC Curve', fontsize=20)\n",
    "    plt.xlabel('False positive Rate')\n",
    "    plt.ylabel('True Positive Rate')\n",
    "    plt.show()\n",
    "    \n",
    "    \n",
    "    \n",
    "    \n",
    "                    # Logistic Regression Model\n",
    "    \n",
    "    lgs = linear_model.LogisticRegression()\n",
    "    lgs.fit(X_train,y_train)\n",
    "    lgr_pred=lgs.predict(X_test)\n",
    "    print(\"\\n\\nFor Logistic Regression\\n\")\n",
    "    reports(y_test,lgr_pred)\n",
    "    \n",
    "    fpr, tpr, thresholds = roc_curve(y_test,lgr_pred)\n",
    "    plt.plot([0, 1], [0, 1], linestyle='--')\n",
    "    plt.plot(fpr, tpr, marker='.')\n",
    "    plt.suptitle('AUC-ROC Curve', fontsize=20)\n",
    "    plt.xlabel('False positive Rate')\n",
    "    plt.ylabel('True Positive Rate')\n",
    "    plt.show()\n",
    "    \n",
    "    \n",
    "    \n",
    "    \n",
    "    \n",
    "                    #  Gaussian Naive Bayes Model\n",
    "    \n",
    "    clf1= GaussianNB()\n",
    "    clf1.fit(X_train,y_train)\n",
    "    y_pred_gnb=clf1.predict(X_test)\n",
    "    print(\"\\n\\nFor Gaussian Naive Bayes : \\n\")\n",
    "    reports(y_test,y_pred_gnb)\n",
    "    \n",
    "    fpr, tpr, thresholds = roc_curve(y_test,y_pred_gnb)\n",
    "    plt.plot([0, 1], [0, 1], linestyle='--')\n",
    "    plt.plot(fpr, tpr, marker='.')\n",
    "    plt.suptitle('AUC-ROC Curve', fontsize=20)\n",
    "    plt.xlabel('False positive Rate')\n",
    "    plt.ylabel('True Positive Rate')\n",
    "    plt.show()\n",
    "    \n",
    "    \n",
    "    \n",
    "    \n",
    "    \n",
    "                # Multinomial Naive Bayes Model\n",
    "    \n",
    "    clf2= MultinomialNB()\n",
    "    clf2.fit(X_train,y_train)\n",
    "    y_pred_mnb=clf2.predict(X_test)\n",
    "    print(\"\\n\\nFor Multinomial Naive Bayes : \\n\")\n",
    "    reports(y_test,y_pred_mnb)\n",
    "    \n",
    "    fpr, tpr, thresholds = roc_curve(y_test,y_pred_mnb)\n",
    "    plt.plot([0, 1], [0, 1], linestyle='--')\n",
    "    plt.plot(fpr, tpr, marker='.')\n",
    "    plt.suptitle('AUC-ROC Curve', fontsize=20)\n",
    "    plt.xlabel('False positive Rate')\n",
    "    plt.ylabel('True Positive Rate')\n",
    "    plt.show()"
   ]
  },
  {
   "cell_type": "code",
   "execution_count": 43,
   "metadata": {},
   "outputs": [
    {
     "name": "stdout",
     "output_type": "stream",
     "text": [
      "\n",
      "\n",
      "For Random Forest\n",
      "\n",
      "Accuracy : 0.8030272039271835\n",
      "Precision : 0.8274204946996466\n",
      "Recall : 0.892514102759567\n",
      "Logloss : 6.8032992068991875\n",
      "AUC : 0.7566018789659903\n",
      "Confusion Matrix : \n",
      "[[1998 1221]\n",
      " [ 705 5854]]\n"
     ]
    },
    {
     "data": {
      "image/png": "[encoded data removed]",
      "text/plain": [
       "<Figure size 432x288 with 1 Axes>"
      ]
     },
     "metadata": {
      "needs_background": "light"
     },
     "output_type": "display_data"
    },
    {
     "name": "stdout",
     "output_type": "stream",
     "text": [
      "\n",
      "\n",
      "For Decision Tree\n",
      "\n",
      "Accuracy : 0.7901411331560646\n",
      "Precision : 0.8474942174248266\n",
      "Recall : 0.8379326116786096\n",
      "Logloss : 7.248349352036734\n",
      "AUC : 0.7653471694615477\n",
      "Confusion Matrix : \n",
      "[[2230  989]\n",
      " [1063 5496]]\n"
     ]
    },
    {
     "data": {
      "image/png": "[encoded data removed]",
      "text/plain": [
       "<Figure size 432x288 with 1 Axes>"
      ]
     },
     "metadata": {
      "needs_background": "light"
     },
     "output_type": "display_data"
    },
    {
     "name": "stderr",
     "output_type": "stream",
     "text": [
      "C:\\ProgramData\\Anaconda3\\lib\\site-packages\\sklearn\\linear_model\\logistic.py:433: FutureWarning: Default solver will be changed to 'lbfgs' in 0.22. Specify a solver to silence this warning.\n",
      "  FutureWarning)\n"
     ]
    },
    {
     "name": "stdout",
     "output_type": "stream",
     "text": [
      "\n",
      "\n",
      "For Logistic Regression\n",
      "\n",
      "Accuracy : 0.8916956432808345\n",
      "Precision : 0.9094699225729601\n",
      "Recall : 0.9312395182192408\n",
      "Logloss : 3.7407496786099386\n",
      "AUC : 0.8711804922565606\n",
      "Confusion Matrix : \n",
      "[[2611  608]\n",
      " [ 451 6108]]\n"
     ]
    },
    {
     "data": {
      "image/png": "[encoded data removed]",
      "text/plain": [
       "<Figure size 432x288 with 1 Axes>"
      ]
     },
     "metadata": {
      "needs_background": "light"
     },
     "output_type": "display_data"
    },
    {
     "name": "stdout",
     "output_type": "stream",
     "text": [
      "\n",
      "\n",
      "For Gaussian Naive Bayes : \n",
      "\n",
      "Accuracy : 0.5840662712211087\n",
      "Precision : 0.8509859154929578\n",
      "Recall : 0.46058850434517457\n",
      "Logloss : 14.365885312450638\n",
      "AUC : 0.6481258769007638\n",
      "Confusion Matrix : \n",
      "[[2690  529]\n",
      " [3538 3021]]\n"
     ]
    },
    {
     "data": {
      "image/png": "[encoded data removed]",
      "text/plain": [
       "<Figure size 432x288 with 1 Axes>"
      ]
     },
     "metadata": {
      "needs_background": "light"
     },
     "output_type": "display_data"
    },
    {
     "name": "stdout",
     "output_type": "stream",
     "text": [
      "\n",
      "\n",
      "For Multinomial Naive Bayes : \n",
      "\n",
      "Accuracy : 0.8006749846594395\n",
      "Precision : 0.8580304442373408\n",
      "Recall : 0.842201555115109\n",
      "Logloss : 6.884516877248122\n",
      "AUC : 0.7791312217948952\n",
      "Confusion Matrix : \n",
      "[[2305  914]\n",
      " [1035 5524]]\n"
     ]
    },
    {
     "data": {
      "image/png": "[encoded data removed]",
      "text/plain": [
       "<Figure size 432x288 with 1 Axes>"
      ]
     },
     "metadata": {
      "needs_background": "light"
     },
     "output_type": "display_data"
    }
   ],
   "source": [
    "all_models_report()"
   ]
  },
  {
   "cell_type": "code",
   "execution_count": 44,
   "metadata": {},
   "outputs": [
    {
     "name": "stderr",
     "output_type": "stream",
     "text": [
      "C:\\ProgramData\\Anaconda3\\lib\\site-packages\\sklearn\\linear_model\\logistic.py:433: FutureWarning: Default solver will be changed to 'lbfgs' in 0.22. Specify a solver to silence this warning.\n",
      "  FutureWarning)\n"
     ]
    },
    {
     "name": "stdout",
     "output_type": "stream",
     "text": [
      "\n",
      "\n",
      "For Logistic Regression\n",
      "\n",
      "Accuracy : 0.8916956432808345\n",
      "Precision : 0.9094699225729601\n",
      "Recall : 0.9312395182192408\n",
      "Logloss : 3.7407496786099386\n",
      "AUC : 0.8711804922565606\n",
      "Confusion Matrix : \n",
      "[[2611  608]\n",
      " [ 451 6108]]\n"
     ]
    },
    {
     "data": {
      "image/png": "[encoded data removed]",
      "text/plain": [
       "<Figure size 432x288 with 1 Axes>"
      ]
     },
     "metadata": {
      "needs_background": "light"
     },
     "output_type": "display_data"
    }
   ],
   "source": [
    "lgs = linear_model.LogisticRegression()\n",
    "lgs.fit(X_train,y_train)\n",
    "lgr_pred=lgs.predict(X_test)\n",
    "print(\"\\n\\nFor Logistic Regression\\n\")\n",
    "reports(y_test,lgr_pred)\n",
    "\n",
    "fpr, tpr, thresholds = roc_curve(y_test,lgr_pred)\n",
    "plt.plot([0, 1], [0, 1], linestyle='--')\n",
    "plt.plot(fpr, tpr, marker='.')\n",
    "plt.suptitle('AUC-ROC Curve', fontsize=20)\n",
    "plt.xlabel('False positive Rate')\n",
    "plt.ylabel('True Positive Rate')\n",
    "plt.show()"
   ]
  },
  {
   "cell_type": "code",
   "execution_count": null,
   "metadata": {},
   "outputs": [],
   "source": []
  }
 ],
 "metadata": {
  "kernelspec": {
   "display_name": "Python 3",
   "language": "python",
   "name": "python3"
  },
  "language_info": {
   "codemirror_mode": {
    "name": "ipython",
    "version": 3
   },
   "file_extension": ".py",
   "mimetype": "text/x-python",
   "name": "python",
   "nbconvert_exporter": "python",
   "pygments_lexer": "ipython3",
   "version": "3.7.3"
  }
 },
 "nbformat": 4,
 "nbformat_minor": 2
}
